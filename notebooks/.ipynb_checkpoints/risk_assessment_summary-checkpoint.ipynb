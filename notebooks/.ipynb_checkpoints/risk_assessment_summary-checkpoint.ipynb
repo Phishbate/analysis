{
  "cells": [
    {
      "cell_type": "code",
      "execution_count": 8,
      "metadata": {},
      "outputs": [
        {
          "data": {
            "text/html": [
              "<div>\n",
              "<style scoped>\n",
              "    .dataframe tbody tr th:only-of-type {\n",
              "        vertical-align: middle;\n",
              "    }\n",
              "\n",
              "    .dataframe tbody tr th {\n",
              "        vertical-align: top;\n",
              "    }\n",
              "\n",
              "    .dataframe thead th {\n",
              "        text-align: right;\n",
              "    }\n",
              "</style>\n",
              "<table border=\"1\" class=\"dataframe\">\n",
              "  <thead>\n",
              "    <tr style=\"text-align: right;\">\n",
              "      <th></th>\n",
              "      <th>Timestamp</th>\n",
              "      <th>Email Address</th>\n",
              "      <th>Company Name</th>\n",
              "      <th>Disclaimer</th>\n",
              "      <th>1. Do you have a company wide cyber security policy?</th>\n",
              "      <th>2. Do you have any cyber security awareness posters around the office?</th>\n",
              "      <th>3. Do you have an internal person and/or external company who is responsible for your organisations cyber security?</th>\n",
              "      <th>4. How often is cyber security discussed at a management / board level?</th>\n",
              "      <th>5. Do you currently have cyber insurance?</th>\n",
              "      <th>6. Has your organisation ever experienced a cyber security incident?</th>\n",
              "      <th>...</th>\n",
              "      <th>45. Do you have a VPN setup for staff to connect to the office remotely?</th>\n",
              "      <th>46. Do you have guidelines for staff to use their personal computers to access your organisations systems and data?</th>\n",
              "      <th>47. Do you have a recovery plan of who is responsible for what and who has access to recovery data?</th>\n",
              "      <th>48. Do you perform regular backups of computers and servers?</th>\n",
              "      <th>49. Do you test the integrity of backups on a regular basis?</th>\n",
              "      <th>50. Are you aware of what notification is required to send to customers should you experience a breach?</th>\n",
              "      <th>51. Do you maintain computer / server logs to investigate a breach should one occur?</th>\n",
              "      <th>52. Do you have a basic plan of action (incident response plan) which outlines roles and responsibilities should you experience a cyber incident?</th>\n",
              "      <th>53. Have you specifically investigated your legal risk relating to cyber security?</th>\n",
              "      <th>54. Have you specifically investigated your regulatory obligations with relation to cyber security?</th>\n",
              "    </tr>\n",
              "  </thead>\n",
              "  <tbody>\n",
              "    <tr>\n",
              "      <th>0</th>\n",
              "      <td>1/27/2024 14:17:18</td>\n",
              "      <td>mattwilliamanderson@gmail.com</td>\n",
              "      <td>Example Company</td>\n",
              "      <td>I agree</td>\n",
              "      <td>No</td>\n",
              "      <td>Yes</td>\n",
              "      <td>No</td>\n",
              "      <td>Rarely</td>\n",
              "      <td>Yes</td>\n",
              "      <td>No</td>\n",
              "      <td>...</td>\n",
              "      <td>Yes</td>\n",
              "      <td>No</td>\n",
              "      <td>Yes</td>\n",
              "      <td>No</td>\n",
              "      <td>Yes</td>\n",
              "      <td>Yes</td>\n",
              "      <td>No</td>\n",
              "      <td>Yes</td>\n",
              "      <td>No</td>\n",
              "      <td>Yes</td>\n",
              "    </tr>\n",
              "  </tbody>\n",
              "</table>\n",
              "<p>1 rows × 57 columns</p>\n",
              "</div>"
            ],
            "text/plain": [
              "            Timestamp                  Email Address     Company Name  \\\n",
              "0  1/27/2024 14:17:18  mattwilliamanderson@gmail.com  Example Company   \n",
              "\n",
              "  Disclaimer 1. Do you have a company wide cyber security policy?  \\\n",
              "0    I agree                                                 No     \n",
              "\n",
              "  2. Do you have any cyber security awareness posters around the office?  \\\n",
              "0                                                Yes                       \n",
              "\n",
              "  3. Do you have an internal person and/or external company who is responsible for your organisations cyber security?  \\\n",
              "0                                                 No                                                                    \n",
              "\n",
              "  4. How often is cyber security discussed at a management / board level?  \\\n",
              "0                                             Rarely                        \n",
              "\n",
              "  5. Do you currently have cyber insurance?  \\\n",
              "0                                       Yes   \n",
              "\n",
              "  6. Has your organisation ever experienced a cyber security incident?  ...  \\\n",
              "0                                                 No                    ...   \n",
              "\n",
              "  45. Do you have a VPN setup for staff to connect to the office remotely?  \\\n",
              "0                                                Yes                         \n",
              "\n",
              "  46. Do you have guidelines for staff to use their personal computers to access your organisations systems and data?  \\\n",
              "0                                                 No                                                                    \n",
              "\n",
              "  47. Do you have a recovery plan of who is responsible for what and who has access to recovery data?  \\\n",
              "0                                                Yes                                                    \n",
              "\n",
              "  48. Do you perform regular backups of computers and servers?  \\\n",
              "0                                                 No             \n",
              "\n",
              "  49. Do you test the integrity of backups on a regular basis?  \\\n",
              "0                                                Yes             \n",
              "\n",
              "  50. Are you aware of what notification is required to send to customers should you experience a breach?  \\\n",
              "0                                                Yes                                                        \n",
              "\n",
              "  51. Do you maintain computer / server logs to investigate a breach should one occur?  \\\n",
              "0                                                 No                                     \n",
              "\n",
              "  52. Do you have a basic plan of action (incident response plan) which outlines roles and responsibilities should you experience a cyber incident?  \\\n",
              "0                                                Yes                                                                                                  \n",
              "\n",
              "  53. Have you specifically investigated your legal risk relating to cyber security?  \\\n",
              "0                                                 No                                   \n",
              "\n",
              "  54. Have you specifically investigated your regulatory obligations with relation to cyber security?  \n",
              "0                                                Yes                                                   \n",
              "\n",
              "[1 rows x 57 columns]"
            ]
          },
          "execution_count": 8,
          "metadata": {},
          "output_type": "execute_result"
        }
      ],
      "source": [
        "import pandas as pd\n",
        "\n",
        "df = pd.read_csv('../data/risk_assessment_responses.csv')\n",
        "df.head()"
      ]
    },
    {
      "cell_type": "code",
      "execution_count": null,
      "metadata": {},
      "outputs": [],
      "source": []
    },
    {
      "cell_type": "code",
      "execution_count": 10,
      "metadata": {},
      "outputs": [
        {
          "name": "stdout",
          "output_type": "stream",
          "text": [
            "0    1/27/2024 14:17:18\n",
            "Name: Timestamp, dtype: object\n"
          ]
        }
      ],
      "source": [
        "assessment_date = df.Timestamp\n",
        "\n",
        "print(assessment_date)"
      ]
    },
    {
      "cell_type": "markdown",
      "metadata": {
        "id": "XygFn3mFh3aT"
      },
      "source": [
        "# New section"
      ]
    },
    {
      "cell_type": "code",
      "execution_count": 9,
      "metadata": {
        "colab": {
          "base_uri": "https://localhost:8080/",
          "height": 391
        },
        "id": "WiDDHS_j_kUn",
        "outputId": "c45c5a9f-d0c4-4ddb-80c5-1b84f60c0622"
      },
      "outputs": [
        {
          "ename": "KeyError",
          "evalue": "'questions'",
          "output_type": "error",
          "traceback": [
            "\u001b[0;31m---------------------------------------------------------------------------\u001b[0m",
            "\u001b[0;31mKeyError\u001b[0m                                  Traceback (most recent call last)",
            "File \u001b[0;32m~/anaconda3/lib/python3.10/site-packages/pandas/core/indexes/base.py:3802\u001b[0m, in \u001b[0;36mIndex.get_loc\u001b[0;34m(self, key, method, tolerance)\u001b[0m\n\u001b[1;32m   3801\u001b[0m \u001b[38;5;28;01mtry\u001b[39;00m:\n\u001b[0;32m-> 3802\u001b[0m     \u001b[38;5;28;01mreturn\u001b[39;00m \u001b[38;5;28;43mself\u001b[39;49m\u001b[38;5;241;43m.\u001b[39;49m\u001b[43m_engine\u001b[49m\u001b[38;5;241;43m.\u001b[39;49m\u001b[43mget_loc\u001b[49m\u001b[43m(\u001b[49m\u001b[43mcasted_key\u001b[49m\u001b[43m)\u001b[49m\n\u001b[1;32m   3803\u001b[0m \u001b[38;5;28;01mexcept\u001b[39;00m \u001b[38;5;167;01mKeyError\u001b[39;00m \u001b[38;5;28;01mas\u001b[39;00m err:\n",
            "File \u001b[0;32m~/anaconda3/lib/python3.10/site-packages/pandas/_libs/index.pyx:138\u001b[0m, in \u001b[0;36mpandas._libs.index.IndexEngine.get_loc\u001b[0;34m()\u001b[0m\n",
            "File \u001b[0;32m~/anaconda3/lib/python3.10/site-packages/pandas/_libs/index.pyx:165\u001b[0m, in \u001b[0;36mpandas._libs.index.IndexEngine.get_loc\u001b[0;34m()\u001b[0m\n",
            "File \u001b[0;32mpandas/_libs/hashtable_class_helper.pxi:5745\u001b[0m, in \u001b[0;36mpandas._libs.hashtable.PyObjectHashTable.get_item\u001b[0;34m()\u001b[0m\n",
            "File \u001b[0;32mpandas/_libs/hashtable_class_helper.pxi:5753\u001b[0m, in \u001b[0;36mpandas._libs.hashtable.PyObjectHashTable.get_item\u001b[0;34m()\u001b[0m\n",
            "\u001b[0;31mKeyError\u001b[0m: 'questions'",
            "\nThe above exception was the direct cause of the following exception:\n",
            "\u001b[0;31mKeyError\u001b[0m                                  Traceback (most recent call last)",
            "Cell \u001b[0;32mIn[9], line 2\u001b[0m\n\u001b[1;32m      1\u001b[0m \u001b[38;5;66;03m# Splitting the values based on the full stop and extracting the numbers\u001b[39;00m\n\u001b[0;32m----> 2\u001b[0m df[\u001b[38;5;124m'\u001b[39m\u001b[38;5;124mquestion_number\u001b[39m\u001b[38;5;124m'\u001b[39m] \u001b[38;5;241m=\u001b[39m \u001b[43mdf\u001b[49m\u001b[43m[\u001b[49m\u001b[38;5;124;43m'\u001b[39;49m\u001b[38;5;124;43mquestions\u001b[39;49m\u001b[38;5;124;43m'\u001b[39;49m\u001b[43m]\u001b[49m\u001b[38;5;241m.\u001b[39mstr\u001b[38;5;241m.\u001b[39msplit(\u001b[38;5;124m'\u001b[39m\u001b[38;5;124m.\u001b[39m\u001b[38;5;124m'\u001b[39m)\u001b[38;5;241m.\u001b[39mstr[\u001b[38;5;241m0\u001b[39m]\n\u001b[1;32m      4\u001b[0m \u001b[38;5;66;03m# Converting the new column to numeric if needed\u001b[39;00m\n\u001b[1;32m      5\u001b[0m df[\u001b[38;5;124m'\u001b[39m\u001b[38;5;124mquestion_number\u001b[39m\u001b[38;5;124m'\u001b[39m] \u001b[38;5;241m=\u001b[39m pd\u001b[38;5;241m.\u001b[39mto_numeric(df[\u001b[38;5;124m'\u001b[39m\u001b[38;5;124mquestion_number\u001b[39m\u001b[38;5;124m'\u001b[39m])\n",
            "File \u001b[0;32m~/anaconda3/lib/python3.10/site-packages/pandas/core/frame.py:3807\u001b[0m, in \u001b[0;36mDataFrame.__getitem__\u001b[0;34m(self, key)\u001b[0m\n\u001b[1;32m   3805\u001b[0m \u001b[38;5;28;01mif\u001b[39;00m \u001b[38;5;28mself\u001b[39m\u001b[38;5;241m.\u001b[39mcolumns\u001b[38;5;241m.\u001b[39mnlevels \u001b[38;5;241m>\u001b[39m \u001b[38;5;241m1\u001b[39m:\n\u001b[1;32m   3806\u001b[0m     \u001b[38;5;28;01mreturn\u001b[39;00m \u001b[38;5;28mself\u001b[39m\u001b[38;5;241m.\u001b[39m_getitem_multilevel(key)\n\u001b[0;32m-> 3807\u001b[0m indexer \u001b[38;5;241m=\u001b[39m \u001b[38;5;28;43mself\u001b[39;49m\u001b[38;5;241;43m.\u001b[39;49m\u001b[43mcolumns\u001b[49m\u001b[38;5;241;43m.\u001b[39;49m\u001b[43mget_loc\u001b[49m\u001b[43m(\u001b[49m\u001b[43mkey\u001b[49m\u001b[43m)\u001b[49m\n\u001b[1;32m   3808\u001b[0m \u001b[38;5;28;01mif\u001b[39;00m is_integer(indexer):\n\u001b[1;32m   3809\u001b[0m     indexer \u001b[38;5;241m=\u001b[39m [indexer]\n",
            "File \u001b[0;32m~/anaconda3/lib/python3.10/site-packages/pandas/core/indexes/base.py:3804\u001b[0m, in \u001b[0;36mIndex.get_loc\u001b[0;34m(self, key, method, tolerance)\u001b[0m\n\u001b[1;32m   3802\u001b[0m     \u001b[38;5;28;01mreturn\u001b[39;00m \u001b[38;5;28mself\u001b[39m\u001b[38;5;241m.\u001b[39m_engine\u001b[38;5;241m.\u001b[39mget_loc(casted_key)\n\u001b[1;32m   3803\u001b[0m \u001b[38;5;28;01mexcept\u001b[39;00m \u001b[38;5;167;01mKeyError\u001b[39;00m \u001b[38;5;28;01mas\u001b[39;00m err:\n\u001b[0;32m-> 3804\u001b[0m     \u001b[38;5;28;01mraise\u001b[39;00m \u001b[38;5;167;01mKeyError\u001b[39;00m(key) \u001b[38;5;28;01mfrom\u001b[39;00m \u001b[38;5;21;01merr\u001b[39;00m\n\u001b[1;32m   3805\u001b[0m \u001b[38;5;28;01mexcept\u001b[39;00m \u001b[38;5;167;01mTypeError\u001b[39;00m:\n\u001b[1;32m   3806\u001b[0m     \u001b[38;5;66;03m# If we have a listlike key, _check_indexing_error will raise\u001b[39;00m\n\u001b[1;32m   3807\u001b[0m     \u001b[38;5;66;03m#  InvalidIndexError. Otherwise we fall through and re-raise\u001b[39;00m\n\u001b[1;32m   3808\u001b[0m     \u001b[38;5;66;03m#  the TypeError.\u001b[39;00m\n\u001b[1;32m   3809\u001b[0m     \u001b[38;5;28mself\u001b[39m\u001b[38;5;241m.\u001b[39m_check_indexing_error(key)\n",
            "\u001b[0;31mKeyError\u001b[0m: 'questions'"
          ]
        }
      ],
      "source": [
        "# Splitting the values based on the full stop and extracting the numbers\n",
        "df['question_number'] = df['questions'].str.split('.').str[0]\n",
        "\n",
        "# Converting the new column to numeric if needed\n",
        "df['question_number'] = pd.to_numeric(df['question_number'])\n",
        "\n",
        "# Displaying the modified DataFrame\n",
        "\n",
        "print (df.T)"
      ]
    },
    {
      "cell_type": "markdown",
      "metadata": {
        "id": "x-42vLE6h-Rn"
      },
      "source": [
        "# New section"
      ]
    },
    {
      "cell_type": "code",
      "execution_count": null,
      "metadata": {
        "id": "p7hJlycK-_dn"
      },
      "outputs": [],
      "source": [
        "#TODO - Put the questions into categories"
      ]
    },
    {
      "cell_type": "code",
      "execution_count": 6,
      "metadata": {
        "colab": {
          "base_uri": "https://localhost:8080/"
        },
        "id": "D4F51L2KjuH-",
        "outputId": "7822faff-d956-49aa-f0df-ad1584bdc8d2"
      },
      "outputs": [
        {
          "name": "stdout",
          "output_type": "stream",
          "text": [
            "2018-03-22\n",
            "value\n",
            "1st option\n",
            "value\n"
          ]
        }
      ],
      "source": [
        "# @title Company Context\n",
        "\n",
        "assessment_date = '2018-03-22' # @param {type:\"date\"}\n",
        "company_name = 'value' # @param {type:\"string\"}\n",
        "dropdown = '1st option' # @param [\"1st option\", \"2nd option\", \"3rd option\"]\n",
        "text_and_dropdown = 'value' # @param [\"1st option\", \"2nd option\", \"3rd option\"] {allow-input: true}\n",
        "\n",
        "print(assessment_date)\n",
        "print(company_name)\n",
        "print(dropdown)\n",
        "print(text_and_dropdown)"
      ]
    },
    {
      "cell_type": "markdown",
      "metadata": {
        "id": "LaDV4kbjkRPF"
      },
      "source": [
        "**bold text**# New section"
      ]
    },
    {
      "cell_type": "markdown",
      "metadata": {
        "id": "ZUtSJrnmkWqD"
      },
      "source": [
        "# External Analysis"
      ]
    },
    {
      "cell_type": "markdown",
      "metadata": {
        "id": "k2q_o7PllSHx"
      },
      "source": [
        "Actors Causing Cyber Incidents"
      ]
    },
    {
      "cell_type": "code",
      "execution_count": null,
      "metadata": {
        "cellView": "form",
        "colab": {
          "base_uri": "https://localhost:8080/",
          "height": 428
        },
        "id": "eGwscmWMk0Ly",
        "outputId": "5daa0e5d-acdb-4951-f23b-eebcdf040dbf"
      },
      "outputs": [
        {
          "data": {
            "image/png": "[encoded data removed]",
            "text/plain": [
              "<Figure size 640x480 with 1 Axes>"
            ]
          },
          "metadata": {},
          "output_type": "display_data"
        }
      ],
      "source": [
        "# @title\n",
        "import numpy as np\n",
        "import matplotlib.pyplot as plt\n",
        "# if using a Jupyter notebook, include:\n",
        "%matplotlib inline\n",
        "\n",
        "# Pie chart, where the slices will be ordered and plotted counter-clockwise:\n",
        "labels = ['External', 'Internal', 'Partner', 'Unknown']\n",
        "sizes = [72, 16, 10, 2]\n",
        "\n",
        "\n",
        "fig, ax = plt.subplots()\n",
        "ax.pie(sizes, labels=labels, autopct='%1.1f%%')\n",
        "ax.axis('equal')  # Equal aspect ratio ensures the pie chart is circular.\n",
        "ax.set_title('Actors Causing Cyber Incidents Since 2009')\n",
        "\n",
        "\n",
        "plt.show()"
      ]
    }
  ],
  "metadata": {
    "colab": {
      "provenance": [],
      "toc_visible": true
    },
    "kernelspec": {
      "display_name": "Python 3",
      "name": "python3"
    },
    "language_info": {
      "codemirror_mode": {
        "name": "ipython",
        "version": 3
      },
      "file_extension": ".py",
      "mimetype": "text/x-python",
      "name": "python",
      "nbconvert_exporter": "python",
      "pygments_lexer": "ipython3",
      "version": "3.10.9"
    }
  },
  "nbformat": 4,
  "nbformat_minor": 0
}
