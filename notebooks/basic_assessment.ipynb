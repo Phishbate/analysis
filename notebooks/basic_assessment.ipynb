{
 "cells": [
  {
   "cell_type": "code",
   "execution_count": 32,
   "id": "1287f3b2-f56c-446d-8b9c-f267417133bd",
   "metadata": {},
   "outputs": [],
   "source": [
    "import pandas as pd\n",
    "import numpy as np\n",
    "\n",
    "df = pd.read_csv('../data/risk_assessment_responses.csv')\n",
    "#df.head()\n",
    "#df.shape()\n",
    "#df.info()\n",
    "#df.describe()"
   ]
  },
  {
   "cell_type": "code",
   "execution_count": 25,
   "id": "2e7a7ee2-dd64-4e07-92dd-2c781a2e944b",
   "metadata": {
    "editable": true,
    "slideshow": {
     "slide_type": ""
    },
    "tags": []
   },
   "outputs": [],
   "source": [
    "# Converting the DF to a logical format\n",
    "df = df.transpose()"
   ]
  },
  {
   "cell_type": "code",
   "execution_count": 27,
   "id": "c8f3ee13-79e9-43a5-984c-a0c6da2f70df",
   "metadata": {},
   "outputs": [
    {
     "name": "stdout",
     "output_type": "stream",
     "text": [
      "            Timestamp                  Email Address     Company Name  \\\n",
      "0  1/27/2024 14:17:18  mattwilliamanderson@gmail.com  Example Company   \n",
      "\n",
      "  Disclaimer 1. Do you have a company wide cyber security policy?  \\\n",
      "0    I agree                                                 No     \n",
      "\n",
      "  2. Do you have any cyber security awareness posters around the office?  \\\n",
      "0                                                Yes                       \n",
      "\n",
      "  3. Do you have an internal person and/or external company who is responsible for your organisations cyber security?  \\\n",
      "0                                                 No                                                                    \n",
      "\n",
      "  4. How often is cyber security discussed at a management / board level?  \\\n",
      "0                                             Rarely                        \n",
      "\n",
      "  5. Do you currently have cyber insurance?  \\\n",
      "0                                       Yes   \n",
      "\n",
      "  6. Has your organisation ever experienced a cyber security incident?  ...  \\\n",
      "0                                                 No                    ...   \n",
      "\n",
      "  45. Do you have a VPN setup for staff to connect to the office remotely?  \\\n",
      "0                                                Yes                         \n",
      "\n",
      "  46. Do you have guidelines for staff to use their personal computers to access your organisations systems and data?  \\\n",
      "0                                                 No                                                                    \n",
      "\n",
      "  47. Do you have a recovery plan of who is responsible for what and who has access to recovery data?  \\\n",
      "0                                                Yes                                                    \n",
      "\n",
      "  48. Do you perform regular backups of computers and servers?  \\\n",
      "0                                                 No             \n",
      "\n",
      "  49. Do you test the integrity of backups on a regular basis?  \\\n",
      "0                                                Yes             \n",
      "\n",
      "  50. Are you aware of what notification is required to send to customers should you experience a breach?  \\\n",
      "0                                                Yes                                                        \n",
      "\n",
      "  51. Do you maintain computer / server logs to investigate a breach should one occur?  \\\n",
      "0                                                 No                                     \n",
      "\n",
      "  52. Do you have a basic plan of action (incident response plan) which outlines roles and responsibilities should you experience a cyber incident?  \\\n",
      "0                                                Yes                                                                                                  \n",
      "\n",
      "  53. Have you specifically investigated your legal risk relating to cyber security?  \\\n",
      "0                                                 No                                   \n",
      "\n",
      "  54. Have you specifically investigated your regulatory obligations with relation to cyber security?  \n",
      "0                                                Yes                                                   \n",
      "\n",
      "[1 rows x 57 columns]\n"
     ]
    }
   ],
   "source": [
    "# Establish each of the first columns as variables before deleting\n"
   ]
  },
  {
   "cell_type": "code",
   "execution_count": null,
   "id": "675e133b-6245-4334-991a-014f949bb8ce",
   "metadata": {},
   "outputs": [],
   "source": [
    "# Count the number of True vs False\n",
    "df['"
   ]
  },
  {
   "cell_type": "code",
   "execution_count": 33,
   "id": "09bb0959-9a12-4afa-b5ae-093f0894eb8d",
   "metadata": {},
   "outputs": [
    {
     "ename": "TypeError",
     "evalue": "'method' object is not subscriptable",
     "output_type": "error",
     "traceback": [
      "\u001b[0;31m---------------------------------------------------------------------------\u001b[0m",
      "\u001b[0;31mTypeError\u001b[0m                                 Traceback (most recent call last)",
      "Cell \u001b[0;32mIn[33], line 2\u001b[0m\n\u001b[1;32m      1\u001b[0m \u001b[38;5;66;03m# Trim the first 4 columns to use the data set for analysis\u001b[39;00m\n\u001b[0;32m----> 2\u001b[0m \u001b[43mdf\u001b[49m\u001b[38;5;241;43m.\u001b[39;49m\u001b[43mdrop\u001b[49m\u001b[43m[\u001b[49m\u001b[43m:\u001b[49m\u001b[43m \u001b[49m\u001b[43m,\u001b[49m\u001b[43m \u001b[49m\u001b[38;5;241;43m4\u001b[39;49m\u001b[43m:\u001b[49m\u001b[43m]\u001b[49m\n\u001b[1;32m      3\u001b[0m \u001b[38;5;28mprint\u001b[39m(df)\n",
      "\u001b[0;31mTypeError\u001b[0m: 'method' object is not subscriptable"
     ]
    }
   ],
   "source": [
    "# Trim the first 4 columns to use the data set for analysis\n",
    "df.drop[: , 4:]\n",
    "print(df)"
   ]
  },
  {
   "cell_type": "code",
   "execution_count": null,
   "id": "591fa2e7-306f-4303-a6dd-6db5ef4569ea",
   "metadata": {},
   "outputs": [],
   "source": []
  }
 ],
 "metadata": {
  "kernelspec": {
   "display_name": "Python 3 (ipykernel)",
   "language": "python",
   "name": "python3"
  },
  "language_info": {
   "codemirror_mode": {
    "name": "ipython",
    "version": 3
   },
   "file_extension": ".py",
   "mimetype": "text/x-python",
   "name": "python",
   "nbconvert_exporter": "python",
   "pygments_lexer": "ipython3",
   "version": "3.8.16"
  }
 },
 "nbformat": 4,
 "nbformat_minor": 5
}
